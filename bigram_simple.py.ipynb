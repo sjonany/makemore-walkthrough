{
 "cells": [
  {
   "cell_type": "markdown",
   "id": "4ab35220",
   "metadata": {},
   "source": [
    "##  Load the text file"
   ]
  },
  {
   "cell_type": "code",
   "execution_count": 1,
   "id": "ca9efc8f",
   "metadata": {
    "tags": []
   },
   "outputs": [],
   "source": [
    "# Load the text file\n",
    "words = open('data/names.txt', 'r').read().splitlines()"
   ]
  },
  {
   "cell_type": "code",
   "execution_count": 2,
   "id": "17f51796",
   "metadata": {
    "tags": []
   },
   "outputs": [
    {
     "data": {
      "text/plain": [
       "32033"
      ]
     },
     "execution_count": 2,
     "metadata": {},
     "output_type": "execute_result"
    }
   ],
   "source": [
    "len(words)"
   ]
  },
  {
   "cell_type": "markdown",
   "id": "269d1250",
   "metadata": {},
   "source": [
    "## Build the bigram model"
   ]
  },
  {
   "cell_type": "code",
   "execution_count": 3,
   "id": "53d06de1",
   "metadata": {
    "tags": []
   },
   "outputs": [],
   "source": [
    "import torch"
   ]
  },
  {
   "cell_type": "markdown",
   "id": "5beff1fd",
   "metadata": {},
   "source": [
    "### Build empty bigram counter and the mapping"
   ]
  },
  {
   "cell_type": "code",
   "execution_count": 4,
   "id": "1cf69c98",
   "metadata": {
    "tags": []
   },
   "outputs": [],
   "source": [
    "# bigram_count[i,j] = num of occurrence where character i is followed by character j\n",
    "bigram_count = torch.zeros((27,27), dtype=torch.int32)\n",
    "\n",
    "# This marks beginning or end\n",
    "SPECIAL_CHAR = '.'\n",
    "CHAR_TO_ID_STR = SPECIAL_CHAR + 'abcdefghijklmnopqrstuvwxyz'\n",
    "\n",
    "char_to_id = {}\n",
    "id_to_char = []\n",
    "\n",
    "for i in range(len(CHAR_TO_ID_STR)):\n",
    "    c = CHAR_TO_ID_STR[i]\n",
    "    id_to_char.append(c)\n",
    "    char_to_id[c] = i"
   ]
  },
  {
   "cell_type": "markdown",
   "id": "70888265",
   "metadata": {},
   "source": [
    "### Fill in the bigram counter"
   ]
  },
  {
   "cell_type": "code",
   "execution_count": 5,
   "id": "8de2e8f4",
   "metadata": {
    "tags": []
   },
   "outputs": [],
   "source": [
    "for word in words:\n",
    "    bigram_count[char_to_id[SPECIAL_CHAR], char_to_id[word[0]]] += 1\n",
    "    for left in range(len(word) - 1):\n",
    "        bigram_count[char_to_id[word[left]], char_to_id[word[left + 1]]] += 1\n",
    "    bigram_count[char_to_id[word[-1]], char_to_id[SPECIAL_CHAR]] += 1"
   ]
  },
  {
   "cell_type": "code",
   "execution_count": 6,
   "id": "8c7fed61",
   "metadata": {
    "tags": []
   },
   "outputs": [
    {
     "data": {
      "text/plain": [
       "tensor([   0, 4410, 1306, 1542, 1690, 1531,  417,  669,  874,  591, 2422, 2963,\n",
       "        1572, 2538, 1146,  394,  515,   92, 1639, 2055, 1308,   78,  376,  307,\n",
       "         134,  535,  929], dtype=torch.int32)"
      ]
     },
     "execution_count": 6,
     "metadata": {},
     "output_type": "execute_result"
    }
   ],
   "source": [
    "bigram_count[0]"
   ]
  },
  {
   "cell_type": "markdown",
   "id": "48996f35",
   "metadata": {},
   "source": [
    "## Sample from the bigram counter"
   ]
  },
  {
   "cell_type": "code",
   "execution_count": 17,
   "id": "d475fd4a",
   "metadata": {
    "tags": []
   },
   "outputs": [
    {
     "name": "stdout",
     "output_type": "stream",
     "text": [
      "junide\n",
      "janasah\n",
      "p\n",
      "cony\n",
      "a\n",
      "nn\n",
      "kohin\n",
      "tolian\n",
      "juee\n",
      "ksahnaauranilevias\n",
      "dedainrwieta\n",
      "ssonielylarte\n",
      "faveumerifontume\n",
      "phynslenaruani\n",
      "core\n",
      "yaenon\n",
      "ka\n",
      "jabdinerimikimaynin\n",
      "anaasn\n",
      "ssorionsush\n"
     ]
    }
   ],
   "source": [
    "def get_sample(bigram_count):\n",
    "    result = []\n",
    "    cur_char_id = char_to_id[SPECIAL_CHAR]\n",
    "    while True:\n",
    "        proba_dist = bigram_count[cur_char_id].float()\n",
    "        # You don't have to normalize\n",
    "        # proba_dist /= proba_dist.sum()\n",
    "        cur_char_id = torch.multinomial(proba_dist, num_samples = 1, replacement=True, generator=g).item()\n",
    "        if id_to_char[cur_char_id] == SPECIAL_CHAR:\n",
    "            break\n",
    "        result.append(id_to_char[cur_char_id])\n",
    "    return ''.join(result)\n",
    "\n",
    "g = torch.Generator().manual_seed(2147483647)\n",
    "num_samples = 20\n",
    "for sample_i in range(num_samples):\n",
    "    print(get_sample(bigram_count))"
   ]
  },
  {
   "cell_type": "code",
   "execution_count": null,
   "id": "731535b2-150d-4663-9a21-b57aa4e934e9",
   "metadata": {},
   "outputs": [],
   "source": []
  }
 ],
 "metadata": {
  "kernelspec": {
   "display_name": "Python 3 (ipykernel)",
   "language": "python",
   "name": "python3"
  },
  "language_info": {
   "codemirror_mode": {
    "name": "ipython",
    "version": 3
   },
   "file_extension": ".py",
   "mimetype": "text/x-python",
   "name": "python",
   "nbconvert_exporter": "python",
   "pygments_lexer": "ipython3",
   "version": "3.11.4"
  }
 },
 "nbformat": 4,
 "nbformat_minor": 5
}
