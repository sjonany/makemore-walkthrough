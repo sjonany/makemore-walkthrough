{
 "cells": [
  {
   "cell_type": "code",
   "execution_count": 1,
   "id": "e97d8e4c-b39d-4c47-8138-b95c6f2ed039",
   "metadata": {
    "tags": []
   },
   "outputs": [],
   "source": [
    "import torch\n",
    "import torch.nn.functional as F\n",
    "import matplotlib.pyplot as plt\n",
    "# consts\n",
    "PREV_CHAR_COUNT = 3"
   ]
  },
  {
   "cell_type": "markdown",
   "id": "a01b2d62-f1f2-44ad-962e-dafce20e8297",
   "metadata": {},
   "source": [
    "## Character mapping"
   ]
  },
  {
   "cell_type": "code",
   "execution_count": 2,
   "id": "217218c0-058a-40e8-b74f-7c5a35cf4620",
   "metadata": {
    "tags": []
   },
   "outputs": [],
   "source": [
    "# Denotes beginning and end\n",
    "SPECIAL_CHAR = '.'\n",
    "CHAR_TO_ID_STR = SPECIAL_CHAR + 'abcdefghijklmnopqrstuvwxyz'\n",
    "\n",
    "char_to_id = {}\n",
    "id_to_char = []\n",
    "\n",
    "for i in range(len(CHAR_TO_ID_STR)):\n",
    "    c = CHAR_TO_ID_STR[i]\n",
    "    id_to_char.append(c)\n",
    "    char_to_id[c] = i\n",
    "\n",
    "NUM_CHAR = len(id_to_char)"
   ]
  },
  {
   "cell_type": "markdown",
   "id": "593475b4-daab-45f9-873e-2ddbd2643f5f",
   "metadata": {},
   "source": [
    "## Load the text file"
   ]
  },
  {
   "cell_type": "code",
   "execution_count": 3,
   "id": "77286264-f3ef-47f1-aaba-008ed4b25792",
   "metadata": {
    "tags": []
   },
   "outputs": [],
   "source": [
    "words = open('data/names.txt', 'r').read().splitlines()"
   ]
  },
  {
   "cell_type": "code",
   "execution_count": 4,
   "id": "92ee45db-ec40-42e4-8f30-e5a1e86983fd",
   "metadata": {
    "tags": []
   },
   "outputs": [
    {
     "data": {
      "text/plain": [
       "32033"
      ]
     },
     "execution_count": 4,
     "metadata": {},
     "output_type": "execute_result"
    }
   ],
   "source": [
    "len(words)"
   ]
  },
  {
   "cell_type": "markdown",
   "id": "6eeaa142-992c-42c0-9200-ad5faea13142",
   "metadata": {},
   "source": [
    "## Word to labeled pairs"
   ]
  },
  {
   "cell_type": "code",
   "execution_count": 5,
   "id": "d1f22829-d553-4ef7-931d-bb1bca126270",
   "metadata": {
    "tags": []
   },
   "outputs": [],
   "source": [
    "def word_to_labeled_pairs(word: str, prev_char_count: int, char_to_id):\n",
    "    \"\"\"\n",
    "    Given a word (E.g. \"emma\") and prev_char_count, e.g. 3, return [xs,ys], the labeled data for learning.\n",
    "    Conceptually, the returned xs, ys are like so:\n",
    "    ... -> e\n",
    "    ..e -> m\n",
    "    .em -> m\n",
    "    emm -> a\n",
    "    mma -> .\n",
    "    \n",
    "    Each xs is an int array of size 3.\n",
    "    Each ys is an int.\n",
    "    char_to_id is in charge of mapping\n",
    "    \"\"\"\n",
    "    xs = []\n",
    "    ys = []\n",
    "    expanded_word = [SPECIAL_CHAR] * prev_char_count + list(word) + [SPECIAL_CHAR]\n",
    "    for left in range(len(word) + 1):\n",
    "        xs.append([char_to_id[expanded_word[left + offset]] for offset in range(prev_char_count)])\n",
    "        ys.append(char_to_id[expanded_word[left + prev_char_count]])\n",
    "    return xs, ys\n"
   ]
  },
  {
   "cell_type": "code",
   "execution_count": 6,
   "id": "28722f9f-4368-4eb7-9948-6e0972d9db67",
   "metadata": {
    "tags": []
   },
   "outputs": [
    {
     "name": "stdout",
     "output_type": "stream",
     "text": [
      "['.', '.', '.'] -> e\n",
      "['.', '.', 'e'] -> m\n",
      "['.', 'e', 'm'] -> m\n",
      "['e', 'm', 'm'] -> a\n",
      "['m', 'm', 'a'] -> .\n"
     ]
    }
   ],
   "source": [
    "xs, ys = word_to_labeled_pairs(\"emma\", PREV_CHAR_COUNT, char_to_id)\n",
    "for i in range(len(ys)):\n",
    "    print(f\"{[id_to_char[x] for x in xs[i]]} -> {id_to_char[ys[i]]}\")"
   ]
  },
  {
   "cell_type": "markdown",
   "id": "6ceaa1db-3a48-4dce-8d91-590145b488ea",
   "metadata": {},
   "source": [
    "## Mini training data - just first 5 words"
   ]
  },
  {
   "cell_type": "code",
   "execution_count": 7,
   "id": "5f3b4fbe-c2e3-4e2b-95c7-f2426abbbf65",
   "metadata": {
    "tags": []
   },
   "outputs": [],
   "source": [
    "mini_x, mini_y = [], []\n",
    "for word in words[:5]:\n",
    "    xs, ys = word_to_labeled_pairs(word, PREV_CHAR_COUNT, char_to_id)\n",
    "    mini_x.extend(xs)\n",
    "    mini_y.extend(ys)\n",
    "mini_x = torch.tensor(mini_x)\n",
    "mini_y = torch.tensor(mini_y)"
   ]
  },
  {
   "cell_type": "code",
   "execution_count": 8,
   "id": "e87a3af4-207f-46e0-97ae-ef10db58cb4b",
   "metadata": {
    "tags": []
   },
   "outputs": [
    {
     "data": {
      "text/plain": [
       "(torch.Size([32, 3]), torch.int64, torch.Size([32]), torch.int64)"
      ]
     },
     "execution_count": 8,
     "metadata": {},
     "output_type": "execute_result"
    }
   ],
   "source": [
    "mini_x.shape, mini_x.dtype, mini_y.shape, mini_y.dtype"
   ]
  },
  {
   "cell_type": "markdown",
   "id": "d3325a74-f674-4af7-b4e0-b0c92ab25da4",
   "metadata": {},
   "source": [
    "## Model, loss function\n",
    "- Input dim: (N,3) = (input size, num context word)\n",
    "- Embed w/ size 2: (N, 6)\n",
    "- FCC layer: tanh(W1x + b1): (N, 100)\n",
    "- Compute logit: W2x + b2: (N, 27)\n",
    "- Model is complete here!\n",
    "- But for loss, we add cross-entropy against the Y's"
   ]
  },
  {
   "cell_type": "code",
   "execution_count": 9,
   "id": "5c40f667-ab4c-4953-b63e-0ce87ac05b0d",
   "metadata": {
    "tags": []
   },
   "outputs": [],
   "source": [
    "# consts\n",
    "N = len(mini_y)\n",
    "EMBED_SIZE = 2\n",
    "EMBED_CONCAT_VEC_SIZE = EMBED_SIZE * PREV_CHAR_COUNT\n",
    "NUM_HIDDEN_NEURON = 100"
   ]
  },
  {
   "cell_type": "code",
   "execution_count": 10,
   "id": "1a9ca5fe-0ab3-4cb8-99b2-14ba868e552b",
   "metadata": {
    "tags": []
   },
   "outputs": [],
   "source": [
    "# params\n",
    "g = torch.Generator().manual_seed(2147483647)\n",
    "embed = torch.randn((NUM_CHAR, EMBED_SIZE), generator = g)\n",
    "w1 = torch.randn((EMBED_CONCAT_VEC_SIZE, NUM_HIDDEN_NEURON), generator = g)\n",
    "b1 = torch.randn((NUM_HIDDEN_NEURON), generator = g)\n",
    "w2 = torch.randn((NUM_HIDDEN_NEURON, NUM_CHAR), generator = g)\n",
    "b2 = torch.randn((NUM_CHAR), generator = g)\n",
    "params = [embed, w1, b1, w2, b2]"
   ]
  },
  {
   "cell_type": "code",
   "execution_count": 11,
   "id": "042ef86c-0de9-44de-8a8c-dfa18f990cb3",
   "metadata": {
    "tags": []
   },
   "outputs": [],
   "source": [
    "# model\n",
    "\n",
    "# [LAYER] Embedding. \n",
    "# embed (27,2), mini_x (32,3) -> (32,3,2) -- do embedding lookup\n",
    "x_looked_up = embed[mini_x]\n",
    "assert x_looked_up.shape == (N, PREV_CHAR_COUNT, EMBED_SIZE)\n",
    "x_looked_up_shaped = x_looked_up.view(N, EMBED_CONCAT_VEC_SIZE)\n",
    "assert x_looked_up_shaped.shape == (N, EMBED_CONCAT_VEC_SIZE)"
   ]
  },
  {
   "cell_type": "code",
   "execution_count": 12,
   "id": "278bcb8d-c2bc-43d7-8400-194655de2fb3",
   "metadata": {
    "tags": []
   },
   "outputs": [],
   "source": [
    "# [LAYER] FCC\n",
    "fcc = (x_looked_up_shaped @ w1 + b1).tanh()\n",
    "assert fcc.shape == (N, NUM_HIDDEN_NEURON)"
   ]
  },
  {
   "cell_type": "code",
   "execution_count": 13,
   "id": "f1aadd29-f647-4f52-b976-59c75cdfe4c0",
   "metadata": {
    "tags": []
   },
   "outputs": [],
   "source": [
    "# [LAYER] logit\n",
    "logits = fcc @ w2 + b2"
   ]
  },
  {
   "cell_type": "code",
   "execution_count": 14,
   "id": "cd56c0b8-940d-449a-869b-f3fbf0c7bc62",
   "metadata": {
    "tags": []
   },
   "outputs": [],
   "source": [
    "# [Loss layer]\n",
    "loss = F.cross_entropy(logits, mini_y)"
   ]
  },
  {
   "cell_type": "code",
   "execution_count": 15,
   "id": "444f4b80-c693-4113-9c31-9bcb8d01c256",
   "metadata": {
    "tags": []
   },
   "outputs": [
    {
     "data": {
      "text/plain": [
       "tensor(17.7697)"
      ]
     },
     "execution_count": 15,
     "metadata": {},
     "output_type": "execute_result"
    }
   ],
   "source": [
    "loss"
   ]
  },
  {
   "cell_type": "markdown",
   "id": "e0616a7b-c419-46bb-87b7-26225a2887cd",
   "metadata": {},
   "source": [
    "## Train and overfit on mini data"
   ]
  },
  {
   "cell_type": "code",
   "execution_count": 16,
   "id": "717f49e4-8ad9-4cea-bc60-54a268699fc4",
   "metadata": {
    "tags": []
   },
   "outputs": [],
   "source": [
    "lr = 0.1\n",
    "\n",
    "g = torch.Generator().manual_seed(2147483647)\n",
    "embed = torch.randn((NUM_CHAR, EMBED_SIZE), generator = g)\n",
    "w1 = torch.randn((EMBED_CONCAT_VEC_SIZE, NUM_HIDDEN_NEURON), generator = g)\n",
    "b1 = torch.randn((NUM_HIDDEN_NEURON), generator = g)\n",
    "w2 = torch.randn((NUM_HIDDEN_NEURON, NUM_CHAR), generator = g)\n",
    "b2 = torch.randn((NUM_CHAR), generator = g)\n",
    "params = [embed, w1, b1, w2, b2]\n",
    "\n",
    "for param in params:\n",
    "    param.requires_grad = True\n",
    "\n",
    "import pdb\n",
    "def get_logits(xs):\n",
    "    # xs = (num_data, 3)\n",
    "    n = xs.shape[0]\n",
    "    x_looked_up = embed[xs]\n",
    "    x_looked_up_shaped = x_looked_up.view(n, EMBED_CONCAT_VEC_SIZE)\n",
    "    fcc = (x_looked_up_shaped @ w1 + b1).tanh()\n",
    "    logits = fcc @ w2 + b2\n",
    "    return logits\n",
    "    "
   ]
  },
  {
   "cell_type": "code",
   "execution_count": 17,
   "id": "1d622efd-e8ab-417f-a8c7-3af7f7a50484",
   "metadata": {
    "tags": []
   },
   "outputs": [
    {
     "name": "stdout",
     "output_type": "stream",
     "text": [
      "Loss @0: 17.7697\n",
      "Loss @100: 0.3354\n",
      "Loss @200: 0.2789\n",
      "Loss @300: 0.2679\n",
      "Loss @400: 0.2632\n",
      "Loss @500: 0.2636\n",
      "Loss @600: 0.2602\n",
      "Loss @700: 0.2586\n",
      "Loss @800: 0.2576\n",
      "Loss @900: 0.2568\n"
     ]
    }
   ],
   "source": [
    "for iter_i in range(1000):\n",
    "    # fwd pass\n",
    "    logits = get_logits(mini_x)\n",
    "    loss = F.cross_entropy(logits, mini_y)\n",
    "    \n",
    "    if iter_i % 100 == 0:\n",
    "        print(f\"Loss @{iter_i}: {loss.data:.4f}\")\n",
    "    \n",
    "    # bwd pass\n",
    "    for param in params:\n",
    "        param.grad = None\n",
    "    loss.backward()\n",
    "\n",
    "    # update\n",
    "    for param in params:\n",
    "        param.data -= lr * param.grad\n",
    "    "
   ]
  },
  {
   "cell_type": "markdown",
   "id": "202fdfab-8201-4d4e-a8b8-353d35450bb8",
   "metadata": {},
   "source": [
    "## Sample"
   ]
  },
  {
   "cell_type": "code",
   "execution_count": 18,
   "id": "f2e0085d-7df6-4421-900e-e71556bdf139",
   "metadata": {
    "tags": []
   },
   "outputs": [
    {
     "name": "stdout",
     "output_type": "stream",
     "text": [
      "isabella\n",
      "ava\n",
      "sophia\n",
      "olivia\n",
      "ava\n",
      "olivia\n",
      "sophia\n",
      "olivia\n",
      "emma\n",
      "emma\n"
     ]
    }
   ],
   "source": [
    "max_len = 20\n",
    "num_sample = 10\n",
    "\n",
    "def generate_sample(get_logits):\n",
    "    word_so_far = [char_to_id[SPECIAL_CHAR]]*PREV_CHAR_COUNT\n",
    "    while len(word_so_far) < max_len:\n",
    "        input_tensor = torch.tensor([word_so_far[-PREV_CHAR_COUNT:]])\n",
    "        logits = get_logits(input_tensor)\n",
    "        probas = F.softmax(logits, dim = 1)\n",
    "        next_char_id = torch.multinomial(probas[0], num_samples = 1, replacement=True).item()\n",
    "        word_so_far.append(next_char_id)\n",
    "        if id_to_char[next_char_id] == SPECIAL_CHAR:\n",
    "            break\n",
    "    return(''.join([id_to_char[ci] for ci in word_so_far])[PREV_CHAR_COUNT:-1])\n",
    "\n",
    "for sample_i in range(num_sample):\n",
    "    print(generate_sample(get_logits))"
   ]
  },
  {
   "cell_type": "markdown",
   "id": "3ce238c8-89d1-49de-8987-3951540d5897",
   "metadata": {},
   "source": [
    "Hooray! We showed we can overfit on the training data"
   ]
  },
  {
   "cell_type": "markdown",
   "id": "f9c60315",
   "metadata": {},
   "source": [
    "## Prepare real test splits"
   ]
  },
  {
   "cell_type": "code",
   "execution_count": 19,
   "id": "eb8cb739",
   "metadata": {},
   "outputs": [],
   "source": [
    "full_x, full_y = [], []\n",
    "for word in words:\n",
    "    xs, ys = word_to_labeled_pairs(word, PREV_CHAR_COUNT, char_to_id)\n",
    "    full_x.extend(xs)\n",
    "    full_y.extend(ys)\n",
    "full_x = torch.tensor(full_x)\n",
    "full_y = torch.tensor(full_y)"
   ]
  },
  {
   "cell_type": "code",
   "execution_count": 20,
   "id": "5a423643",
   "metadata": {},
   "outputs": [
    {
     "data": {
      "text/plain": [
       "(torch.Size([182516, 3]),\n",
       " torch.Size([182516]),\n",
       " torch.Size([22815, 3]),\n",
       " torch.Size([22815]),\n",
       " torch.Size([22815, 3]),\n",
       " torch.Size([22815]))"
      ]
     },
     "execution_count": 20,
     "metadata": {},
     "output_type": "execute_result"
    }
   ],
   "source": [
    "# split full_x and full_y into 80/10/10 train/val/test, but shuffle it first\n",
    "N = len(full_y)\n",
    "shuffled_indices = torch.randperm(N)\n",
    "train_marker = int(0.8 * N)\n",
    "val_marker = int(0.9 * N)\n",
    "train_indices = shuffled_indices[:train_marker]\n",
    "val_indices = shuffled_indices[train_marker:val_marker]\n",
    "test_indices = shuffled_indices[val_marker:]\n",
    "\n",
    "train_x = full_x[train_indices]\n",
    "train_y = full_y[train_indices]\n",
    "val_x = full_x[val_indices]\n",
    "val_y = full_y[val_indices]\n",
    "test_x = full_x[test_indices]\n",
    "test_y = full_y[test_indices]\n",
    "\n",
    "train_x.shape, train_y.shape, val_x.shape, val_y.shape, test_x.shape, test_y.shape"
   ]
  },
  {
   "cell_type": "markdown",
   "id": "a0c5ff4b",
   "metadata": {},
   "source": [
    "## Train and show validation and train error"
   ]
  },
  {
   "cell_type": "code",
   "execution_count": 30,
   "id": "6609e8f4",
   "metadata": {},
   "outputs": [
    {
     "name": "stdout",
     "output_type": "stream",
     "text": [
      "Loss @0: 24.5922\n",
      "Loss @1000: 5.5981\n",
      "Loss @2000: 4.3472\n",
      "Loss @3000: 2.6753\n",
      "Loss @4000: 2.7867\n",
      "Loss @5000: 2.0421\n",
      "Loss @6000: 2.2501\n",
      "Loss @7000: 2.8016\n",
      "Loss @8000: 2.5289\n",
      "Loss @9000: 2.4519\n",
      "Loss @10000: 2.4580\n",
      "Loss @11000: 2.7677\n",
      "Loss @12000: 2.8650\n",
      "Loss @13000: 3.0491\n",
      "Loss @14000: 3.0210\n",
      "Loss @15000: 2.3792\n",
      "Loss @16000: 2.6460\n",
      "Loss @17000: 2.9550\n",
      "Loss @18000: 2.5853\n",
      "Loss @19000: 2.9805\n",
      "Loss @20000: 2.7314\n",
      "Loss @21000: 2.6928\n",
      "Loss @22000: 2.2343\n",
      "Loss @23000: 2.2573\n",
      "Loss @24000: 2.6359\n",
      "Loss @25000: 2.1737\n",
      "Loss @26000: 2.3277\n",
      "Loss @27000: 2.0560\n",
      "Loss @28000: 2.4831\n",
      "Loss @29000: 2.3575\n",
      "Loss @30000: 2.0818\n",
      "Loss @31000: 2.4756\n",
      "Loss @32000: 2.4607\n",
      "Loss @33000: 1.7771\n",
      "Loss @34000: 2.6189\n",
      "Loss @35000: 2.3927\n",
      "Loss @36000: 2.7953\n",
      "Loss @37000: 2.2228\n",
      "Loss @38000: 2.0968\n",
      "Loss @39000: 1.8706\n",
      "Loss @40000: 2.3881\n",
      "Loss @41000: 2.2503\n",
      "Loss @42000: 2.0372\n",
      "Loss @43000: 2.8200\n",
      "Loss @44000: 2.4868\n",
      "Loss @45000: 2.9676\n",
      "Loss @46000: 2.3312\n",
      "Loss @47000: 3.1335\n",
      "Loss @48000: 2.1012\n",
      "Loss @49000: 1.9464\n",
      "Loss @50000: 2.0250\n",
      "Loss @51000: 2.2702\n",
      "Loss @52000: 1.9158\n",
      "Loss @53000: 2.5391\n",
      "Loss @54000: 2.3040\n",
      "Loss @55000: 2.3902\n",
      "Loss @56000: 2.3747\n",
      "Loss @57000: 2.7492\n",
      "Loss @58000: 2.2993\n",
      "Loss @59000: 2.3489\n",
      "Loss @60000: 2.5875\n",
      "Loss @61000: 2.6764\n",
      "Loss @62000: 2.2882\n",
      "Loss @63000: 2.5538\n",
      "Loss @64000: 1.9442\n",
      "Loss @65000: 2.1866\n",
      "Loss @66000: 2.3885\n",
      "Loss @67000: 2.0239\n",
      "Loss @68000: 2.1929\n",
      "Loss @69000: 2.3328\n",
      "Loss @70000: 2.1209\n",
      "Loss @71000: 2.5567\n",
      "Loss @72000: 2.3531\n",
      "Loss @73000: 2.1918\n",
      "Loss @74000: 1.8989\n",
      "Loss @75000: 2.3845\n",
      "Loss @76000: 2.0534\n",
      "Loss @77000: 2.0530\n",
      "Loss @78000: 2.0117\n",
      "Loss @79000: 2.5964\n",
      "Loss @80000: 2.4857\n",
      "Loss @81000: 2.3247\n",
      "Loss @82000: 2.3233\n",
      "Loss @83000: 2.3967\n",
      "Loss @84000: 2.0298\n",
      "Loss @85000: 2.8124\n",
      "Loss @86000: 2.3603\n",
      "Loss @87000: 2.1518\n",
      "Loss @88000: 2.1534\n",
      "Loss @89000: 2.5480\n",
      "Loss @90000: 2.5366\n",
      "Loss @91000: 2.2698\n",
      "Loss @92000: 2.2209\n",
      "Loss @93000: 2.2366\n",
      "Loss @94000: 2.1914\n",
      "Loss @95000: 2.2898\n",
      "Loss @96000: 2.1277\n",
      "Loss @97000: 2.4931\n",
      "Loss @98000: 2.4967\n",
      "Loss @99000: 2.3279\n",
      "Loss @100000: 2.3708\n",
      "Loss @101000: 1.9828\n",
      "Loss @102000: 2.2172\n",
      "Loss @103000: 2.0905\n",
      "Loss @104000: 2.2815\n",
      "Loss @105000: 1.7518\n",
      "Loss @106000: 1.9542\n",
      "Loss @107000: 2.0543\n",
      "Loss @108000: 1.7716\n",
      "Loss @109000: 2.1280\n",
      "Loss @110000: 2.4158\n",
      "Loss @111000: 2.0565\n",
      "Loss @112000: 1.9349\n",
      "Loss @113000: 1.8722\n",
      "Loss @114000: 1.9902\n",
      "Loss @115000: 2.4880\n",
      "Loss @116000: 2.1424\n",
      "Loss @117000: 2.3342\n",
      "Loss @118000: 2.2952\n",
      "Loss @119000: 2.0731\n",
      "Loss @120000: 2.2411\n",
      "Loss @121000: 1.9098\n",
      "Loss @122000: 2.1197\n",
      "Loss @123000: 2.0858\n",
      "Loss @124000: 2.1023\n",
      "Loss @125000: 2.4326\n",
      "Loss @126000: 1.9590\n",
      "Loss @127000: 1.9002\n",
      "Loss @128000: 2.5215\n",
      "Loss @129000: 1.9018\n",
      "Loss @130000: 1.5855\n",
      "Loss @131000: 1.7946\n",
      "Loss @132000: 2.1857\n",
      "Loss @133000: 2.2176\n",
      "Loss @134000: 1.9714\n",
      "Loss @135000: 2.2680\n",
      "Loss @136000: 2.3465\n",
      "Loss @137000: 2.4233\n",
      "Loss @138000: 2.2964\n",
      "Loss @139000: 2.1009\n",
      "Loss @140000: 2.1097\n",
      "Loss @141000: 2.0867\n",
      "Loss @142000: 2.3933\n",
      "Loss @143000: 1.8626\n",
      "Loss @144000: 2.2088\n",
      "Loss @145000: 2.3971\n",
      "Loss @146000: 2.1870\n",
      "Loss @147000: 2.5298\n",
      "Loss @148000: 2.3349\n",
      "Loss @149000: 2.2111\n",
      "Loss @150000: 2.1782\n",
      "Loss @151000: 2.2185\n",
      "Loss @152000: 1.9613\n",
      "Loss @153000: 2.2153\n",
      "Loss @154000: 2.5053\n",
      "Loss @155000: 2.0777\n",
      "Loss @156000: 2.2141\n",
      "Loss @157000: 2.2490\n",
      "Loss @158000: 2.0377\n",
      "Loss @159000: 1.9379\n",
      "Loss @160000: 1.9637\n",
      "Loss @161000: 1.8178\n",
      "Loss @162000: 1.6165\n",
      "Loss @163000: 1.7777\n",
      "Loss @164000: 1.9233\n",
      "Loss @165000: 2.1751\n",
      "Loss @166000: 2.0316\n",
      "Loss @167000: 2.3291\n",
      "Loss @168000: 2.3970\n",
      "Loss @169000: 2.3353\n",
      "Loss @170000: 1.8551\n",
      "Loss @171000: 2.2487\n",
      "Loss @172000: 1.6437\n",
      "Loss @173000: 2.5075\n",
      "Loss @174000: 2.3249\n",
      "Loss @175000: 2.1815\n",
      "Loss @176000: 1.9853\n",
      "Loss @177000: 2.0431\n",
      "Loss @178000: 1.9534\n",
      "Loss @179000: 1.9562\n",
      "Loss @180000: 2.1948\n",
      "Loss @181000: 2.0855\n",
      "Loss @182000: 1.7643\n",
      "Loss @183000: 2.1593\n",
      "Loss @184000: 1.9648\n",
      "Loss @185000: 1.7433\n",
      "Loss @186000: 2.0937\n",
      "Loss @187000: 2.2990\n",
      "Loss @188000: 2.2915\n",
      "Loss @189000: 1.9757\n",
      "Loss @190000: 1.8375\n",
      "Loss @191000: 2.0725\n",
      "Loss @192000: 2.0327\n",
      "Loss @193000: 2.0670\n",
      "Loss @194000: 2.1391\n",
      "Loss @195000: 1.8030\n",
      "Loss @196000: 2.2127\n",
      "Loss @197000: 2.4268\n",
      "Loss @198000: 2.2458\n",
      "Loss @199000: 2.3825\n"
     ]
    },
    {
     "data": {
      "text/plain": [
       "Text(0, 0.5, 'loss')"
      ]
     },
     "execution_count": 30,
     "metadata": {},
     "output_type": "execute_result"
    },
    {
     "data": {
      "image/png": "[encoded data removed]",
      "text/plain": [
       "<Figure size 640x480 with 1 Axes>"
      ]
     },
     "metadata": {},
     "output_type": "display_data"
    }
   ],
   "source": [
    "minibatch_size = 32\n",
    "EMBED_SIZE = 10\n",
    "EMBED_CONCAT_VEC_SIZE = EMBED_SIZE * PREV_CHAR_COUNT\n",
    "NUM_HIDDEN_NEURON = 200\n",
    "\n",
    "g = torch.Generator().manual_seed(2147483647)\n",
    "embed = torch.randn((NUM_CHAR, EMBED_SIZE), generator = g)\n",
    "w1 = torch.randn((EMBED_CONCAT_VEC_SIZE, NUM_HIDDEN_NEURON), generator = g)\n",
    "b1 = torch.randn((NUM_HIDDEN_NEURON), generator = g)\n",
    "w2 = torch.randn((NUM_HIDDEN_NEURON, NUM_CHAR), generator = g)\n",
    "b2 = torch.randn((NUM_CHAR), generator = g)\n",
    "params = [embed, w1, b1, w2, b2]\n",
    "\n",
    "for param in params:\n",
    "    param.requires_grad = True\n",
    "\n",
    "def get_logits(xs):\n",
    "    n = xs.shape[0]\n",
    "    x_looked_up = embed[xs]\n",
    "    x_looked_up_shaped = x_looked_up.view(n, EMBED_CONCAT_VEC_SIZE)\n",
    "    fcc = (x_looked_up_shaped @ w1 + b1).tanh()\n",
    "    logits = fcc @ w2 + b2\n",
    "    return logits\n",
    "\n",
    "train_losses = []\n",
    "iters = []\n",
    "for iter_i in range(200000):\n",
    "    lr = 0.1 if iter_i < 100000 else 0.01\n",
    "    # fwd pass\n",
    "    # mini batch\n",
    "    batch_indices = torch.randint(low = 0, high = len(train_y), size = (minibatch_size,))\n",
    "    \n",
    "    batch_x = train_x[batch_indices]\n",
    "    batch_y = train_y[batch_indices]\n",
    "    logits = get_logits(batch_x)\n",
    "    loss = F.cross_entropy(logits, batch_y)\n",
    "    \n",
    "    if iter_i % 1000 == 0:\n",
    "        print(f\"Loss @{iter_i}: {loss.data:.4f}\")\n",
    "    \n",
    "    # bwd pass\n",
    "    for param in params:\n",
    "        param.grad = None\n",
    "    loss.backward()\n",
    "\n",
    "    # update\n",
    "    for param in params:\n",
    "        param.data -= lr * param.grad\n",
    "    train_losses.append(loss.data)\n",
    "    iters.append(iter_i)\n",
    "\n",
    "plt.plot(iters, train_losses)\n",
    "plt.xlabel(\"iter\")\n",
    "plt.ylabel(\"loss\")\n"
   ]
  },
  {
   "cell_type": "code",
   "execution_count": 31,
   "id": "11289a73",
   "metadata": {},
   "outputs": [
    {
     "name": "stdout",
     "output_type": "stream",
     "text": [
      "tensor(2.1587, grad_fn=<NllLossBackward0>)\n"
     ]
    }
   ],
   "source": [
    "logits = get_logits(val_x)\n",
    "val_loss = F.cross_entropy(logits, val_y)\n",
    "print(val_loss)"
   ]
  },
  {
   "cell_type": "code",
   "execution_count": 37,
   "id": "c706f5c9",
   "metadata": {},
   "outputs": [
    {
     "name": "stdout",
     "output_type": "stream",
     "text": [
      "assia\n",
      "anclee\n",
      "laedacee\n",
      "janylaisee\n",
      "rhelian\n",
      "zhoann\n",
      "raywendrett\n",
      "chiah\n",
      "kinsen\n",
      "adre\n",
      "angi\n",
      "mavon\n",
      "ala\n",
      "able\n",
      "pwe\n",
      "van\n",
      "atuston\n",
      "adrice\n",
      "joiriana\n",
      "yan\n"
     ]
    }
   ],
   "source": [
    "for sample_i in range(20):\n",
    "    print(generate_sample(get_logits))\n"
   ]
  }
 ],
 "metadata": {
  "kernelspec": {
   "display_name": "Python 3 (ipykernel)",
   "language": "python",
   "name": "python3"
  },
  "language_info": {
   "codemirror_mode": {
    "name": "ipython",
    "version": 3
   },
   "file_extension": ".py",
   "mimetype": "text/x-python",
   "name": "python",
   "nbconvert_exporter": "python",
   "pygments_lexer": "ipython3",
   "version": "3.11.4"
  }
 },
 "nbformat": 4,
 "nbformat_minor": 5
}
